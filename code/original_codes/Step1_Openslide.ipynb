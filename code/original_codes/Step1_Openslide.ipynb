{
 "cells": [
  {
   "cell_type": "code",
   "execution_count": 3,
   "id": "4ad3860d-d26b-47e0-9dcc-6e42d9e340ee",
   "metadata": {},
   "outputs": [],
   "source": [
    "import os\n",
    "import openslide\n",
    "import pandas as pd\n",
    "import numpy as np"
   ]
  },
  {
   "cell_type": "code",
   "execution_count": null,
   "id": "ea4de518-2449-4f14-8a1b-1ec8a9a25b2b",
   "metadata": {},
   "outputs": [],
   "source": [
    "slide_filename = '/mnt/e/EWHA/Pancreatic/svs/HE/PCAI0143.svs'\n",
    "Slide = openslide.open_slide( slide_filename )"
   ]
  },
  {
   "cell_type": "code",
   "execution_count": null,
   "id": "5cbc09e9-68e9-4400-8c25-6373a7ce50c7",
   "metadata": {},
   "outputs": [],
   "source": [
    "pd.DataFrame(list(Slide.properties.items()), columns=['Property', 'Value'])"
   ]
  },
  {
   "cell_type": "code",
   "execution_count": null,
   "id": "8bfa362b-bdeb-451f-b193-a529b0e27543",
   "metadata": {},
   "outputs": [],
   "source": [
    "Slide.dimensions"
   ]
  },
  {
   "cell_type": "code",
   "execution_count": null,
   "id": "fe5e0aea-d049-4157-b409-645e3972d0e3",
   "metadata": {},
   "outputs": [],
   "source": [
    "Slide.level_count"
   ]
  },
  {
   "cell_type": "code",
   "execution_count": null,
   "id": "0853fd00-9c68-40f3-ad48-9200064b87e5",
   "metadata": {},
   "outputs": [],
   "source": [
    "Slide.level_dimensions"
   ]
  },
  {
   "cell_type": "code",
   "execution_count": null,
   "id": "9017b72a-7447-404f-a969-5f375c1075f1",
   "metadata": {},
   "outputs": [],
   "source": [
    "Slide.level_downsamples"
   ]
  },
  {
   "cell_type": "code",
   "execution_count": null,
   "id": "968bc9e0-77d5-4605-a308-6a0f2e394fe7",
   "metadata": {},
   "outputs": [],
   "source": [
    "np.array(Slide.dimensions) / 124"
   ]
  },
  {
   "cell_type": "code",
   "execution_count": null,
   "id": "1534bdb0-d397-435f-8357-bd3b1fc8db7b",
   "metadata": {},
   "outputs": [],
   "source": [
    "Slide.get_thumbnail(np.array(Slide.dimensions) / 124)"
   ]
  }
 ],
 "metadata": {
  "kernelspec": {
   "display_name": "pathology",
   "language": "python",
   "name": "pathology"
  },
  "language_info": {
   "codemirror_mode": {
    "name": "ipython",
    "version": 3
   },
   "file_extension": ".py",
   "mimetype": "text/x-python",
   "name": "python",
   "nbconvert_exporter": "python",
   "pygments_lexer": "ipython3",
   "version": "3.10.16"
  }
 },
 "nbformat": 4,
 "nbformat_minor": 5
}
